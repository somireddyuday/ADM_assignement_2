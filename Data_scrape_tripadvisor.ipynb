{
 "cells": [
  {
   "cell_type": "code",
   "execution_count": 16,
   "id": "5598ed73",
   "metadata": {},
   "outputs": [],
   "source": [
    "import sys\n",
    "import csv\n",
    "from selenium import webdriver\n",
    "import time\n"
   ]
  },
  {
   "cell_type": "code",
   "execution_count": 17,
   "id": "31423d12",
   "metadata": {},
   "outputs": [],
   "source": [
    "path_to_file = \"C:/Users/somir/Desktop/ADM_assignment_2/reviews2.csv\""
   ]
  },
  {
   "cell_type": "code",
   "execution_count": 18,
   "id": "87a0c8d0",
   "metadata": {},
   "outputs": [],
   "source": [
    "num_page = 60\n",
    "\n",
    "# default tripadvisor website of restaurant\n",
    "url = \"https://www.tripadvisor.com/Hotel_Review-g60763-d224214-Reviews-The_Bryant_Park_Hotel-New_York_City_New_York.html\"\n"
   ]
  },
  {
   "cell_type": "code",
   "execution_count": 19,
   "id": "31708c50",
   "metadata": {},
   "outputs": [],
   "source": [
    "# if you pass the inputs in the command line\n",
    "if (len(sys.argv) == 4):\n",
    "    path_to_file = sys.argv[1]\n",
    "    num_page = int(sys.argv[2])\n",
    "    url = sys.argv[3]\n"
   ]
  },
  {
   "cell_type": "code",
   "execution_count": 20,
   "id": "2fd35d2f",
   "metadata": {},
   "outputs": [
    {
     "name": "stderr",
     "output_type": "stream",
     "text": [
      "<ipython-input-20-05d160321f1f>:2: DeprecationWarning: executable_path has been deprecated, please pass in a Service object\n",
      "  driver = webdriver.Chrome(\"C:\\webdrivers\\chromedriver.exe\")\n"
     ]
    }
   ],
   "source": [
    "# Import the webdriver\n",
    "driver = webdriver.Chrome(\"C:\\webdrivers\\chromedriver.exe\")\n",
    "driver.get(url)"
   ]
  },
  {
   "cell_type": "code",
   "execution_count": 21,
   "id": "ade935e8",
   "metadata": {},
   "outputs": [],
   "source": [
    "csvFile = open(path_to_file, 'a', encoding=\"utf-8\")\n",
    "csvWriter = csv.writer(csvFile)"
   ]
  },
  {
   "cell_type": "code",
   "execution_count": 22,
   "id": "7b257545",
   "metadata": {},
   "outputs": [
    {
     "name": "stderr",
     "output_type": "stream",
     "text": [
      "<ipython-input-22-707dd90ca26f>:7: DeprecationWarning: find_elements_by_* commands are deprecated. Please use find_elements() instead\n",
      "  container = driver.find_elements_by_xpath(\"//div[@class='cWwQK MC R2 Gi z Z BB dXjiy']\")\n",
      "<ipython-input-22-707dd90ca26f>:20: DeprecationWarning: find_element_by_* commands are deprecated. Please use find_element() instead\n",
      "  driver.find_element_by_xpath('.//a[@class=\"ui_button nav next primary \"]').click()\n"
     ]
    }
   ],
   "source": [
    "# change the value inside the range to save more or less reviews\n",
    "for i in range(0, num_page):\n",
    "    # expand the review\n",
    "    time.sleep(2)\n",
    "    # driver.find_element_by_xpath(\"//span[@class='eljVo _S Z']\").click()\n",
    "\n",
    "    container = driver.find_elements_by_xpath(\"//div[@class='cWwQK MC R2 Gi z Z BB dXjiy']\")\n",
    "\n",
    "    # for j in range(len(container)):\n",
    "\n",
    "    title = container[0].find_element_by_xpath(\".//a[@class='fCitC']/span\").text\n",
    "    # date = container[0].find_element_by_xpath(\".//span[contains(@class, 'ratingDate')]\").get_attribute(\"title\")\n",
    "    rating = container[0].find_element_by_xpath(\".//span[contains(@class, 'ui_bubble_rating bubble_')]\").get_attribute(\n",
    "        \"class\").split(\"_\")[3][:-1]\n",
    "    review = container[0].find_element_by_xpath(\"//q[@class='XllAv H4 _a']/span\").text\n",
    "\n",
    "    csvWriter.writerow([rating, title, review])\n",
    "\n",
    "    # change the page\n",
    "    driver.find_element_by_xpath('.//a[@class=\"ui_button nav next primary \"]').click()\n",
    "\n",
    "driver.close()"
   ]
  },
  {
   "cell_type": "code",
   "execution_count": null,
   "id": "699fa6a0",
   "metadata": {},
   "outputs": [],
   "source": []
  }
 ],
 "metadata": {
  "kernelspec": {
   "display_name": "Python 3",
   "language": "python",
   "name": "python3"
  },
  "language_info": {
   "codemirror_mode": {
    "name": "ipython",
    "version": 3
   },
   "file_extension": ".py",
   "mimetype": "text/x-python",
   "name": "python",
   "nbconvert_exporter": "python",
   "pygments_lexer": "ipython3",
   "version": "3.8.8"
  }
 },
 "nbformat": 4,
 "nbformat_minor": 5
}
