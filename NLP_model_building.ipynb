{
  "nbformat": 4,
  "nbformat_minor": 0,
  "metadata": {
    "kernelspec": {
      "name": "python3",
      "display_name": "Python 3",
      "language": "python"
    },
    "language_info": {
      "name": "python",
      "version": "3.7.6",
      "mimetype": "text/x-python",
      "codemirror_mode": {
        "name": "ipython",
        "version": 3
      },
      "pygments_lexer": "ipython3",
      "nbconvert_exporter": "python",
      "file_extension": ".py"
    },
    "colab": {
      "name": "kernel4021241e30.ipynb",
      "provenance": []
    }
  },
  "cells": [
    {
      "cell_type": "code",
      "metadata": {
        "_uuid": "8f2839f25d086af736a60e9eeb907d3b93b6e0e5",
        "_cell_guid": "b1076dfc-b9ad-4769-8c92-a6c4dae69d19",
        "trusted": true,
        "id": "KwjNj-OxAhqV",
        "outputId": "7a3ff8e8-63a3-4b58-a3e0-04600068a478"
      },
      "source": [
        "# This Python 3 environment comes with many helpful analytics libraries installed\n",
        "# It is defined by the kaggle/python Docker image: https://github.com/kaggle/docker-python\n",
        "# For example, here's several helpful packages to load\n",
        "\n",
        "import numpy as np # linear algebra\n",
        "import pandas as pd # data processing, CSV file I/O (e.g. pd.read_csv)\n",
        "\n",
        "# Input data files are available in the read-only \"../input/\" directory\n",
        "# For example, running this (by clicking run or pressing Shift+Enter) will list all files under the input directory\n",
        "\n",
        "import os\n",
        "for dirname, _, filenames in os.walk('/kaggle/input'):\n",
        "    for filename in filenames:\n",
        "        print(os.path.join(dirname, filename))\n",
        "\n",
        "# You can write up to 5GB to the current directory (/kaggle/working/) that gets preserved as output when you create a version using \"Save & Run All\" \n",
        "# You can also write temporary files to /kaggle/temp/, but they won't be saved outside of the current session"
      ],
      "execution_count": null,
      "outputs": [
        {
          "output_type": "stream",
          "text": "/kaggle/input/nlp-getting-started/train.csv\n/kaggle/input/nlp-getting-started/test.csv\n/kaggle/input/nlp-getting-started/sample_submission.csv\n",
          "name": "stdout"
        }
      ]
    },
    {
      "cell_type": "code",
      "metadata": {
        "_uuid": "d629ff2d2480ee46fbb7e2d37f6b5fab8052498a",
        "_cell_guid": "79c7e3d0-c299-4dcb-8224-4455121ee9b0",
        "trusted": true,
        "id": "KbmUqY5oAhqb"
      },
      "source": [
        "train_df=pd.read_csv(\"/kaggle/input/nlp-getting-started/train.csv\")\n",
        "test_df=pd.read_csv(\"/kaggle/input/nlp-getting-started/test.csv\")\n",
        "submission_df=pd.read_csv(\"/kaggle/input/nlp-getting-started/sample_submission.csv\")"
      ],
      "execution_count": null,
      "outputs": []
    },
    {
      "cell_type": "code",
      "metadata": {
        "trusted": true,
        "id": "N87WpMOXAhqb"
      },
      "source": [
        "train_df.columns"
      ],
      "execution_count": null,
      "outputs": []
    },
    {
      "cell_type": "code",
      "metadata": {
        "trusted": true,
        "id": "Zbg0qoUtAhqb"
      },
      "source": [
        "train_df.sample(5)"
      ],
      "execution_count": null,
      "outputs": []
    },
    {
      "cell_type": "code",
      "metadata": {
        "trusted": true,
        "id": "Mxsq0Es3Ahqc",
        "outputId": "62e9f90a-7f7e-4bc4-f81c-7f07fa893aa4"
      },
      "source": [
        "test_df.head(5)"
      ],
      "execution_count": null,
      "outputs": [
        {
          "output_type": "execute_result",
          "execution_count": 20,
          "data": {
            "text/plain": "   id keyword location                                               text\n0   0     NaN      NaN                 Just happened a terrible car crash\n1   2     NaN      NaN  Heard about #earthquake is different cities, s...\n2   3     NaN      NaN  there is a forest fire at spot pond, geese are...\n3   9     NaN      NaN           Apocalypse lighting. #Spokane #wildfires\n4  11     NaN      NaN      Typhoon Soudelor kills 28 in China and Taiwan",
            "text/html": "<div>\n<style scoped>\n    .dataframe tbody tr th:only-of-type {\n        vertical-align: middle;\n    }\n\n    .dataframe tbody tr th {\n        vertical-align: top;\n    }\n\n    .dataframe thead th {\n        text-align: right;\n    }\n</style>\n<table border=\"1\" class=\"dataframe\">\n  <thead>\n    <tr style=\"text-align: right;\">\n      <th></th>\n      <th>id</th>\n      <th>keyword</th>\n      <th>location</th>\n      <th>text</th>\n    </tr>\n  </thead>\n  <tbody>\n    <tr>\n      <th>0</th>\n      <td>0</td>\n      <td>NaN</td>\n      <td>NaN</td>\n      <td>Just happened a terrible car crash</td>\n    </tr>\n    <tr>\n      <th>1</th>\n      <td>2</td>\n      <td>NaN</td>\n      <td>NaN</td>\n      <td>Heard about #earthquake is different cities, s...</td>\n    </tr>\n    <tr>\n      <th>2</th>\n      <td>3</td>\n      <td>NaN</td>\n      <td>NaN</td>\n      <td>there is a forest fire at spot pond, geese are...</td>\n    </tr>\n    <tr>\n      <th>3</th>\n      <td>9</td>\n      <td>NaN</td>\n      <td>NaN</td>\n      <td>Apocalypse lighting. #Spokane #wildfires</td>\n    </tr>\n    <tr>\n      <th>4</th>\n      <td>11</td>\n      <td>NaN</td>\n      <td>NaN</td>\n      <td>Typhoon Soudelor kills 28 in China and Taiwan</td>\n    </tr>\n  </tbody>\n</table>\n</div>"
          },
          "metadata": {}
        }
      ]
    },
    {
      "cell_type": "code",
      "metadata": {
        "trusted": true,
        "id": "N4CtdEwzAhqc",
        "outputId": "2cecf025-7e4a-440e-d70a-12ba672d58f4"
      },
      "source": [
        "submission_df.head(5)"
      ],
      "execution_count": null,
      "outputs": [
        {
          "output_type": "execute_result",
          "execution_count": 21,
          "data": {
            "text/plain": "   id  target\n0   0       0\n1   2       0\n2   3       0\n3   9       0\n4  11       0",
            "text/html": "<div>\n<style scoped>\n    .dataframe tbody tr th:only-of-type {\n        vertical-align: middle;\n    }\n\n    .dataframe tbody tr th {\n        vertical-align: top;\n    }\n\n    .dataframe thead th {\n        text-align: right;\n    }\n</style>\n<table border=\"1\" class=\"dataframe\">\n  <thead>\n    <tr style=\"text-align: right;\">\n      <th></th>\n      <th>id</th>\n      <th>target</th>\n    </tr>\n  </thead>\n  <tbody>\n    <tr>\n      <th>0</th>\n      <td>0</td>\n      <td>0</td>\n    </tr>\n    <tr>\n      <th>1</th>\n      <td>2</td>\n      <td>0</td>\n    </tr>\n    <tr>\n      <th>2</th>\n      <td>3</td>\n      <td>0</td>\n    </tr>\n    <tr>\n      <th>3</th>\n      <td>9</td>\n      <td>0</td>\n    </tr>\n    <tr>\n      <th>4</th>\n      <td>11</td>\n      <td>0</td>\n    </tr>\n  </tbody>\n</table>\n</div>"
          },
          "metadata": {}
        }
      ]
    },
    {
      "cell_type": "code",
      "metadata": {
        "trusted": true,
        "id": "2S5wZshFAhqd"
      },
      "source": [
        "real_disaster=np.array(train_df[train_df['target']==1]['text'])\n",
        "not_real_disaster=np.array(train_df[train_df['target']==0]['text'])"
      ],
      "execution_count": null,
      "outputs": []
    },
    {
      "cell_type": "code",
      "metadata": {
        "trusted": true,
        "id": "i2lu3efWAhqd"
      },
      "source": [
        "real_disaster[10]"
      ],
      "execution_count": null,
      "outputs": []
    },
    {
      "cell_type": "code",
      "metadata": {
        "trusted": true,
        "id": "Z2bzAiUKAhqd"
      },
      "source": [
        "not_real_disaster[10]"
      ],
      "execution_count": null,
      "outputs": []
    },
    {
      "cell_type": "code",
      "metadata": {
        "trusted": true,
        "id": "oT5tuephAhqe"
      },
      "source": [
        "from collections import Counter"
      ],
      "execution_count": null,
      "outputs": []
    },
    {
      "cell_type": "code",
      "metadata": {
        "trusted": true,
        "id": "XO488kPuAhqe"
      },
      "source": [
        "real_counts = Counter()\n",
        "not_real_counts = Counter()\n",
        "total_counts = Counter()"
      ],
      "execution_count": null,
      "outputs": []
    },
    {
      "cell_type": "code",
      "metadata": {
        "trusted": true,
        "id": "tunsHjTqAhqe"
      },
      "source": [
        "for tweet in real_disaster:\n",
        "    for word in tweet.split(\" \"):\n",
        "        real_counts[word] +=1\n",
        "        total_counts[word] +=1\n",
        "    \n",
        "for tweet in not_real_disaster:\n",
        "    for word in tweet.split(\" \"):\n",
        "        not_real_counts[word] +=1\n",
        "        total_counts[word] +=1     "
      ],
      "execution_count": null,
      "outputs": []
    },
    {
      "cell_type": "code",
      "metadata": {
        "trusted": true,
        "collapsed": true,
        "id": "vSLRoO_jAhqf"
      },
      "source": [
        "real_counts.most_common()"
      ],
      "execution_count": null,
      "outputs": []
    },
    {
      "cell_type": "code",
      "metadata": {
        "trusted": true,
        "collapsed": true,
        "id": "pz49ZQe_Ahqf"
      },
      "source": [
        "not_real_counts.most_common()"
      ],
      "execution_count": null,
      "outputs": []
    },
    {
      "cell_type": "code",
      "metadata": {
        "trusted": true,
        "id": "L0DIOexsAhqf"
      },
      "source": [
        "ratio_counter=Counter()\n",
        "\n",
        "for word,count in total_counts.most_common():\n",
        "    if count>10:\n",
        "        ratio_counter[word]=real_counts[word]/float(not_real_counts[word]+1)\n",
        "\n",
        "for word,ratio in ratio_counter.most_common():\n",
        "    if ratio>1:\n",
        "        ratio_counter[word]=np.log(ratio)\n",
        "    else:\n",
        "        ratio_counter[word]=-np.log(1/(ratio+0.001))       \n"
      ],
      "execution_count": null,
      "outputs": []
    },
    {
      "cell_type": "code",
      "metadata": {
        "trusted": true,
        "collapsed": true,
        "id": "Xbhixu91Ahqf"
      },
      "source": [
        "ratio_counter.most_common()"
      ],
      "execution_count": null,
      "outputs": []
    },
    {
      "cell_type": "code",
      "metadata": {
        "trusted": true,
        "id": "KrkBD9ZSAhqg"
      },
      "source": [
        "len(ratio_counter)"
      ],
      "execution_count": null,
      "outputs": []
    },
    {
      "cell_type": "code",
      "metadata": {
        "trusted": true,
        "id": "EyrEvGODAhqg",
        "outputId": "d864279c-b448-45f8-aa36-2f220054d09d"
      },
      "source": [
        "vocab=[]\n",
        "for key in ratio_counter.keys():\n",
        "    if ratio_counter[key]>0.2 or ratio_counter[key]<-0.2:\n",
        "        vocab.append(key)\n",
        "\n",
        "vocab_size=len(vocab)\n",
        "print(vocab_size)"
      ],
      "execution_count": null,
      "outputs": [
        {
          "output_type": "stream",
          "text": "1291\n",
          "name": "stdout"
        }
      ]
    },
    {
      "cell_type": "code",
      "metadata": {
        "trusted": true,
        "id": "xGIi-HftAhqg"
      },
      "source": [
        "layer_0=np.zeros((1,vocab_size))"
      ],
      "execution_count": null,
      "outputs": []
    },
    {
      "cell_type": "code",
      "metadata": {
        "trusted": true,
        "collapsed": true,
        "id": "sKf8ei2QAhqh",
        "outputId": "c60e9dd6-c570-40f4-a4bc-87b3fefe20c9"
      },
      "source": [
        "word2index={}\n",
        "\n",
        "for idx,word in enumerate(vocab):\n",
        "    word2index[word]=idx\n",
        "word2index"
      ],
      "execution_count": null,
      "outputs": [
        {
          "output_type": "execute_result",
          "execution_count": 10,
          "data": {
            "text/plain": "{'the': 0,\n 'a': 1,\n 'to': 2,\n 'in': 3,\n 'and': 4,\n 'I': 5,\n 'for': 6,\n 'is': 7,\n '': 8,\n 'you': 9,\n 'my': 10,\n 'with': 11,\n 'that': 12,\n 'at': 13,\n 'it': 14,\n 'from': 15,\n 'be': 16,\n 'was': 17,\n 'have': 18,\n 'are': 19,\n 'this': 20,\n 'like': 21,\n '&amp;': 22,\n 'A': 23,\n 'just': 24,\n 'your': 25,\n 'up': 26,\n 'but': 27,\n 'so': 28,\n 'me': 29,\n 'not': 30,\n 'has': 31,\n 'out': 32,\n \"I'm\": 33,\n 'will': 34,\n 'via': 35,\n '??': 36,\n 'after': 37,\n 'an': 38,\n 'about': 39,\n 'get': 40,\n 'or': 41,\n 'when': 42,\n 'all': 43,\n 'no': 44,\n 'into': 45,\n 'over': 46,\n 'In': 47,\n 'who': 48,\n 'we': 49,\n 'fire': 50,\n 'people': 51,\n 'they': 52,\n '...': 53,\n 'if': 54,\n '|': 55,\n 'one': 56,\n 'can': 57,\n 'i': 58,\n 'he': 59,\n 'than': 60,\n 'more': 61,\n \"don't\": 62,\n 'do': 63,\n 'what': 64,\n 'his': 65,\n 'would': 66,\n \"it's\": 67,\n 'how': 68,\n 'To': 69,\n 'her': 70,\n 'new': 71,\n 'got': 72,\n 'now': 73,\n 'were': 74,\n 'New': 75,\n 'had': 76,\n '????': 77,\n 'know': 78,\n 'You': 79,\n 'video': 80,\n 'My': 81,\n 'there': 82,\n 'going': 83,\n 'California': 84,\n 'killed': 85,\n 'still': 86,\n 'some': 87,\n 'If': 88,\n 'burning': 89,\n 'see': 90,\n 'back': 91,\n 'their': 92,\n '@YouTube': 93,\n 'go': 94,\n '3': 95,\n 'THE': 96,\n 'time': 97,\n 'Is': 98,\n 'disaster': 99,\n 'think': 100,\n 'Full': 101,\n 'suicide': 102,\n 'bomb': 103,\n 'buildings': 104,\n 'body': 105,\n 'want': 106,\n 'our': 107,\n 'Emergency': 108,\n 'them': 109,\n 'may': 110,\n 'More': 111,\n 'How': 112,\n \"can't\": 113,\n 'police': 114,\n 'day': 115,\n 'car': 116,\n 'crash': 117,\n 'only': 118,\n 'We': 119,\n 'say': 120,\n 'many': 121,\n 'being': 122,\n 'last': 123,\n 'fires': 124,\n 'because': 125,\n 'love': 126,\n 'should': 127,\n 'then': 128,\n 'could': 129,\n 'first': 130,\n 'why': 131,\n 'train': 132,\n 'way': 133,\n 'need': 134,\n 'its': 135,\n 'even': 136,\n 'u': 137,\n 'good': 138,\n 'nuclear': 139,\n 'those': 140,\n 'mass': 141,\n 'dead': 142,\n 'And': 143,\n 'Hiroshima': 144,\n 'Northern': 145,\n 'Obama': 146,\n 'really': 147,\n 'families': 148,\n 'It': 149,\n 'bombing': 150,\n 'too': 151,\n 'years': 152,\n 'Of': 153,\n 'two': 154,\n 'attack': 155,\n 'News': 156,\n 'did': 157,\n 'So': 158,\n 'fatal': 159,\n 'bomber': 160,\n '4': 161,\n '5': 162,\n '??????': 163,\n 'But': 164,\n \"It's\": 165,\n 'What': 166,\n 'war': 167,\n 'Fire': 168,\n \"you're\": 169,\n 'much': 170,\n 'Police': 171,\n 'make': 172,\n 'look': 173,\n 'old': 174,\n 'feel': 175,\n 'us': 176,\n 'life': 177,\n 'When': 178,\n 'collapse': 179,\n 'storm': 180,\n 'right': 181,\n 'Army': 182,\n 'near': 183,\n 'All': 184,\n 'getting': 185,\n 'help': 186,\n 'year': 187,\n 'let': 188,\n 'home': 189,\n 'another': 190,\n 'while': 191,\n 'On': 192,\n 'With': 193,\n 'After': 194,\n 'take': 195,\n 'him': 196,\n 'here': 197,\n 'every': 198,\n 'never': 199,\n 'Malaysia': 200,\n 'Just': 201,\n 'school': 202,\n 'where': 203,\n 'He': 204,\n 'shit': 205,\n 'work': 206,\n 'hit': 207,\n 'am': 208,\n 'liked': 209,\n 'during': 210,\n 'Why': 211,\n 'From': 212,\n 'before': 213,\n 'come': 214,\n 'any': 215,\n 'Body': 216,\n 'everyone': 217,\n 'Man': 218,\n 'accident': 219,\n 'US': 220,\n 'Storm': 221,\n 'death': 222,\n 'she': 223,\n 'Are': 224,\n 'ever': 225,\n 'There': 226,\n 'found': 227,\n 'most': 228,\n 'world': 229,\n 'As': 230,\n 'these': 231,\n '70': 232,\n 'whole': 233,\n 'homes': 234,\n 'They': 235,\n 'Disaster': 236,\n 'Two': 237,\n 'injured': 238,\n 'says': 239,\n '1': 240,\n 'always': 241,\n 'MH370:': 242,\n 'loud': 243,\n 'lol': 244,\n 'Get': 245,\n 'gonna': 246,\n 'Cross': 247,\n 'By': 248,\n 'hope': 249,\n 'Watch': 250,\n 'Some': 251,\n 'IN': 252,\n \"I've\": 253,\n 'debris': 254,\n 'air': 255,\n 'family': 256,\n 'little': 257,\n 'AND': 258,\n 'An': 259,\n 'Will': 260,\n 'Japan': 261,\n 'natural': 262,\n 'Still': 263,\n 'collided': 264,\n 'wreck': 265,\n 'oil': 266,\n 'That': 267,\n '#news': 268,\n 'Saudi': 269,\n 'IS': 270,\n 'it.': 271,\n 'OF': 272,\n 'fear': 273,\n \"Don't\": 274,\n 'floods': 275,\n 'Up': 276,\n 'great': 277,\n 'Investigators': 278,\n 'Reddit': 279,\n 'PM': 280,\n 'fucking': 281,\n 'looks': 282,\n 'One': 283,\n 'fall': 284,\n 'missing': 285,\n 'wanna': 286,\n 'migrants': 287,\n 'outbreak': 288,\n '?': 289,\n 'World': 290,\n 'read': 291,\n 'came': 292,\n 'water': 293,\n 'God': 294,\n 'structural': 295,\n 'smoke': 296,\n 'coming': 297,\n 'crashed': 298,\n \"that's\": 299,\n 'least': 300,\n 'movie': 301,\n 'went': 302,\n 'made': 303,\n 'watch': 304,\n 'spill': 305,\n 'damage': 306,\n 'Suicide': 307,\n 'failure': 308,\n 'wrecked': 309,\n 'ruin': 310,\n 'evacuation': 311,\n '40': 312,\n 'stop': 313,\n 'S': 314,\n 'saw': 315,\n 'destroyed': 316,\n 'next': 317,\n 'released': 318,\n 'bad': 319,\n 'around': 320,\n 'flames': 321,\n 'evacuate': 322,\n 'affected': 323,\n 'send': 324,\n 'content': 325,\n 'also': 326,\n '15': 327,\n 'FedEx': 328,\n 'longer': 329,\n 'blown': 330,\n 'PKK': 331,\n 'head': 332,\n 'land': 333,\n 'heard': 334,\n \"Legionnaires'\": 335,\n 'caused': 336,\n 'destroy': 337,\n 'Under': 338,\n 'face': 339,\n 'Latest:': 340,\n 'Sandstorm': 341,\n 'detonated': 342,\n 'County': 343,\n 'Reunion': 344,\n 'At': 345,\n 'ambulance': 346,\n 'August': 347,\n 'against': 348,\n 'Iran': 349,\n 'wildfire': 350,\n 'bleeding': 351,\n 'bloody': 352,\n 'U.S.': 353,\n 'without': 354,\n 'night': 355,\n 'better': 356,\n 'im': 357,\n 'injuries': 358,\n 'deaths': 359,\n 'Severe': 360,\n 'Not': 361,\n 'put': 362,\n 'murder': 363,\n '#hot': 364,\n '#prebreak': 365,\n '#best': 366,\n 'quarantined': 367,\n 'top': 368,\n '2015': 369,\n '#News': 370,\n 'atomic': 371,\n 'lot': 372,\n 'bioterror': 373,\n 'blew': 374,\n 'Atomic': 375,\n 'anniversary': 376,\n 'Nuclear': 377,\n 'trapped': 378,\n 'goes': 379,\n 'sinking': 380,\n 'Do': 381,\n 'wild': 382,\n 'Check': 383,\n 'inundated': 384,\n 'Rescuers': 385,\n 'Wreckage': 386,\n 'Forest': 387,\n 'horrible': 388,\n \"I'll\": 389,\n '+': 390,\n 'house': 391,\n 'doing': 392,\n 'group': 393,\n 'well': 394,\n 'big': 395,\n 'wounded': 396,\n 'Families': 397,\n 'half': 398,\n 'someone': 399,\n 'collapsed': 400,\n 'weapon': 401,\n 'best': 402,\n \"he's\": 403,\n 'devastation': 404,\n 'drown': 405,\n 'electrocuted': 406,\n 'survived': 407,\n 'evacuated': 408,\n 'fatalities': 409,\n 'sue': 410,\n '16yr': 411,\n 'sunk': 412,\n 'due': 413,\n 'rain': 414,\n 'bus': 415,\n 'Black': 416,\n 'Please': 417,\n 'left': 418,\n 'airplane': 419,\n 'kills': 420,\n 'heart': 421,\n 'Israeli': 422,\n 'City': 423,\n 'truck': 424,\n 'thing': 425,\n 'Shoulder': 426,\n 'words': 427,\n 'fuck': 428,\n 'must': 429,\n 'real': 430,\n 'burned': 431,\n 'MY': 432,\n '@': 433,\n 'wind': 434,\n 'survivors': 435,\n 'thunder': 436,\n 're\\x89Û_': 437,\n 'same': 438,\n 'Airport': 439,\n 'screamed': 440,\n 'flooding': 441,\n '\\x89ÛÓ': 442,\n 'Your': 443,\n 'few': 444,\n \"there's\": 445,\n 'destruction': 446,\n 'issues': 447,\n 'keep': 448,\n 'tragedy': 449,\n 'long': 450,\n 'w/': 451,\n 'Calgary': 452,\n 'making': 453,\n 'phone': 454,\n 'summer': 455,\n 'policy': 456,\n 'bang': 457,\n 'terrorist': 458,\n 'week': 459,\n 'thought': 460,\n 'Warning': 461,\n 'mosque': 462,\n 'trying': 463,\n 'having': 464,\n '8': 465,\n \"doesn't\": 466,\n 'city': 467,\n 'blood': 468,\n 'Bag': 469,\n 'bagging': 470,\n 'bigger': 471,\n 'Turkey': 472,\n 'survive': 473,\n 'things': 474,\n 'please': 475,\n 'traumatised': 476,\n 'site': 477,\n 'boat': 478,\n 'does': 479,\n 'ur': 480,\n 'wounds': 481,\n 'derailed': 482,\n 'drowned': 483,\n 'panic': 484,\n 'sound': 485,\n 'sure': 486,\n 'start': 487,\n 'Legionnaires:': 488,\n 'panicking': 489,\n 'Minute': 490,\n 'ass': 491,\n 'Our': 492,\n 'heat': 493,\n 'wave': 494,\n 'PM:': 495,\n 'State': 496,\n 'shooting': 497,\n 'Services': 498,\n 'game': 499,\n 'actually': 500,\n 'high': 501,\n 'very': 502,\n 'attacked': 503,\n 'eBay': 504,\n 'lab': 505,\n 'Love': 506,\n 'bridge': 507,\n 'searching': 508,\n 'save': 509,\n 'rioting': 510,\n 'run': 511,\n 'a...': 512,\n 'cliff': 513,\n 'charged': 514,\n 'Typhoon': 515,\n 'leave': 516,\n 'deluge': 517,\n 'deluged': 518,\n 'demolish': 519,\n 'demolished': 520,\n 'change': 521,\n 'food': 522,\n \"I'd\": 523,\n 'hundreds': 524,\n 'drowning': 525,\n 'hijacking': 526,\n 'again': 527,\n 'obliterate': 528,\n 'Swallowed': 529,\n 'tornado': 530,\n 'something': 531,\n 'explosion': 532,\n 'call': 533,\n 'pick': 534,\n 'violent': 535,\n 'used': 536,\n 'transport': 537,\n 'American': 538,\n 'hot': 539,\n 'remember': 540,\n 'kill': 541,\n 'gets': 542,\n 'makes': 543,\n 'beautiful': 544,\n 'injury': 545,\n 'person': 546,\n 'curfew': 547,\n \"'The\": 548,\n 'Thunderstorm': 549,\n 'rescue': 550,\n 'signs': 551,\n '#???': 552,\n 'Have': 553,\n 'Declares': 554,\n 'Typhoon-Devastated': 555,\n 'famine': 556,\n 'flattened': 557,\n 'waves': 558,\n 'harm': 559,\n 'play': 560,\n 'show': 561,\n \"'Conclusively\": 562,\n \"Confirmed'\": 563,\n 'crush': 564,\n 'suspect': 565,\n 'Island': 566,\n 'helicopter': 567,\n 'outside': 568,\n 'People': 569,\n 'Top': 570,\n 'Burning': 571,\n 'hours': 572,\n \"didn't\": 573,\n 'War': 574,\n 'Brown': 575,\n 'Service': 576,\n 'Riot': 577,\n 'part': 578,\n 'hear': 579,\n 'already': 580,\n 'possible': 581,\n 'away': 582,\n 'security': 583,\n 'forest': 584,\n 'Saipan:': 585,\n 'electrocute': 586,\n 'Eyewitness': 587,\n 'trench': 588,\n 'Who': 589,\n 'Refugio': 590,\n 'costlier': 591,\n 'bodies': 592,\n 'Hollywood': 593,\n 'died': 594,\n 'believe': 595,\n 'feared': 596,\n 'boy': 597,\n '30': 598,\n 'caught': 599,\n 'Over': 600,\n 'cool': 601,\n 'screaming': 602,\n 'such': 603,\n 'tomorrow': 604,\n 'Train': 605,\n 'rescued': 606,\n 'crushed': 607,\n 'blast': 608,\n 'ABC': 609,\n 'Take': 610,\n 'amid': 611,\n 'song': 612,\n 'feeling': 613,\n 'girl': 614,\n 'exploded': 615,\n 'projected': 616,\n 'effect': 617,\n 'kids': 618,\n 'hostage': 619,\n 'hostages': 620,\n 'meltdown': 621,\n 'Quarantine': 622,\n 'trouble': 623,\n '.:': 624,\n 'both': 625,\n 'South': 626,\n 'Breaking': 627,\n 'Accident': 628,\n 'finally': 629,\n 'times': 630,\n 'called': 631,\n 'NOT': 632,\n 'own': 633,\n 'Woman': 634,\n 'bc': 635,\n 'done': 636,\n '#Hiroshima': 637,\n 'Twitter': 638,\n 'SCREAMING': 639,\n 'Be': 640,\n 'rise': 641,\n 'anything': 642,\n 'care': 643,\n 'crisis': 644,\n 'almost': 645,\n 'find': 646,\n 'MH370': 647,\n 'low': 648,\n 'TO': 649,\n '~': 650,\n 'Ignition': 651,\n 'Knock': 652,\n '(Detonation)': 653,\n 'banned': 654,\n 'Wildfire': 655,\n 'VIDEO:': 656,\n 'were...': 657,\n 'St': 658,\n 'shot': 659,\n 'past': 660,\n 'trauma': 661,\n 'annihilated': 662,\n 'Red': 663,\n 'Fan': 664,\n 'Bar': 665,\n 'Texas': 666,\n 'Christian': 667,\n 'battle': 668,\n '7': 669,\n '#??': 670,\n 'Read': 671,\n 'watching': 672,\n 'tell': 673,\n 'lives': 674,\n 'black': 675,\n 'free': 676,\n 'fire.': 677,\n 'crews': 678,\n 'Being': 679,\n 'might': 680,\n 'weather': 681,\n 'danger': 682,\n 'Dead': 683,\n 'data': 684,\n 'declaration': 685,\n 'hurricane': 686,\n 'dust': 687,\n 'move': 688,\n 'Light': 689,\n 'become': 690,\n '11': 691,\n 'guys': 692,\n 'Photo:': 693,\n 'me.': 694,\n 'yourself': 695,\n 'computers': 696,\n 'Market': 697,\n 'disea...': 698,\n 'refugees': 699,\n 'screams': 700,\n 'across': 701,\n 'North': 702,\n '.': 703,\n 'stand': 704,\n 'country': 705,\n 'Times': 706,\n 'post': 707,\n 'Mount': 708,\n 'Flag': 709,\n 'plane': 710,\n 'germs': 711,\n 'anthrax': 712,\n 'running': 713,\n 'blazing': 714,\n 'nothing': 715,\n 'White': 716,\n 'United': 717,\n 'name': 718,\n 'probably': 719,\n 'music': 720,\n 'Road': 721,\n 'THIS': 722,\n '50': 723,\n 'confirmed': 724,\n 'Make': 725,\n 'side': 726,\n 'seen': 727,\n 'Soudelor': 728,\n 'yours': 729,\n 'Homes': 730,\n 'Me': 731,\n 'drought': 732,\n 'Heat': 733,\n 'myself': 734,\n 'YOU': 735,\n 'hail': 736,\n 'Hazard': 737,\n 'Hazardous': 738,\n 'Hat': 739,\n 'appears': 740,\n 'ass.': 741,\n 'Baby': 742,\n 'Pandemonium': 743,\n \"Reddit's\": 744,\n \"'We're\": 745,\n 'picking': 746,\n 'stock': 747,\n 'sinkhole': 748,\n 'Virgin': 749,\n 'bestnaijamade': 750,\n 'upheaval': 751,\n 'Windstorm': 752,\n 'building': 753,\n 'cars': 754,\n 'West': 755,\n 'today.': 756,\n \"they're\": 757,\n 'control': 758,\n 'Arson': 759,\n 'white': 760,\n 'news': 761,\n 'Temple': 762,\n '!': 763,\n 'mishaps': 764,\n 'About': 765,\n 'U': 766,\n 'Did': 767,\n 'wanted': 768,\n \"'I\": 769,\n 'Leather': 770,\n 'report': 771,\n 'Boy': 772,\n '????????': 773,\n 'Today': 774,\n 'power': 775,\n 'town': 776,\n 'explode': 777,\n 'area': 778,\n 'displaced': 779,\n 'FOR': 780,\n 'needs': 781,\n 'Russian': 782,\n 'responders': 783,\n 'hard': 784,\n 'till': 785,\n 'collision': 786,\n 'guy': 787,\n 'level': 788,\n 'Madhya': 789,\n 'Lord': 790,\n 'money': 791,\n \"won't\": 792,\n 'friend': 793,\n 'zone': 794,\n 'story': 795,\n 'stay': 796,\n 'once': 797,\n 'added': 798,\n 'Weather': 799,\n 'Hellfire': 800,\n 'Funtenna:': 801,\n '[Black': 802,\n '2015]': 803,\n 'news!': 804,\n 'murderer': 805,\n 'cake': 806,\n 'reactor': 807,\n \"What's\": 808,\n 'Offensive': 809,\n 'subreddits': 810,\n 'rainstorm': 811,\n 'hell': 812,\n 'friends': 813,\n 'Gems': 814,\n 'twister': 815,\n 'whirlwind': 816,\n 'obliterated': 817,\n 'Three': 818,\n 'Thank': 819,\n 'die': 820,\n \"she's\": 821,\n 'Pakistani': 822,\n 'Stop': 823,\n 'Attack': 824,\n 'child': 825,\n 'hate': 826,\n 'fires.': 827,\n 'Attacked': 828,\n 'Pamela': 829,\n 'TV': 830,\n 'space': 831,\n 'pretty': 832,\n 'up.': 833,\n ':)': 834,\n 'Thursday': 835,\n 'She': 836,\n '70th': 837,\n 'Collapse': 838,\n '60': 839,\n 'Aug': 840,\n \"That's\": 841,\n 'line': 842,\n '10': 843,\n '=': 844,\n 'Catastrophic': 845,\n 'British': 846,\n 'Like': 847,\n 'AT': 848,\n 'fun': 849,\n 'Pradesh': 850,\n 'flood': 851,\n '25': 852,\n 'Work': 853,\n 'derailment': 854,\n 'entire': 855,\n 'detonate': 856,\n 'earthquake': 857,\n 'soon': 858,\n 'memories': 859,\n 'Bayelsa': 860,\n 'upon': 861,\n 'hijack': 862,\n 'Nigerian': 863,\n 'Without': 864,\n 'Unconfirmed!': 865,\n 'nearby.': 866,\n \"neighbour's\": 867,\n 'Wounded': 868,\n '#GBBO': 869,\n 'try': 870,\n 'officer': 871,\n 'Razed': 872,\n \"water':\": 873,\n 'Stock': 874,\n 'Crash:': 875,\n 'Sinkhole': 876,\n 'Pic': 877,\n 'self': 878,\n 'wait': 879,\n 'Bags': 880,\n 'Desolation': 881,\n 'mudslide': 882,\n 'closed': 883,\n 'Great': 884,\n '9': 885,\n 'Could': 886,\n 'Pakistan': 887,\n 'guess': 888,\n 'Wild': 889,\n 'Another': 890,\n 'apocalypse': 891,\n 'army': 892,\n 'Charged': 893,\n 'yet': 894,\n 'Muslims': 895,\n 'Waving': 896,\n 'Geller': 897,\n 'public': 898,\n \"Can't\": 899,\n 'Tote': 900,\n \"ain't\": 901,\n 'bags': 902,\n 'Bomb': 903,\n 'taking': 904,\n 'holding': 905,\n 'SO': 906,\n 'behind': 907,\n 'ppl': 908,\n 'casualties': 909,\n 'children': 910,\n 'literally': 911,\n 'landslide': 912,\n 'wrong': 913,\n 'collide': 914,\n 'School': 915,\n 'investigating': 916,\n 'following': 917,\n 'n': 918,\n 'Cyclone': 919,\n 'quiz:': 920,\n 'demolition': 921,\n 'sounds': 922,\n 'Years': 923,\n 'turned': 924,\n 'Displaced': 925,\n 'See': 926,\n '12000': 927,\n 'IM': 928,\n 'outrage': 929,\n 'fatality': 930,\n 'scared': 931,\n 'started': 932,\n 'Lightning': 933,\n 'Patience': 934,\n 'massacre': 935,\n 'tonight': 936,\n 'win': 937,\n 'book': 938,\n 'eyes': 939,\n 'dont': 940,\n 'razed': 941,\n \"China's\": 942,\n 'snowstorm': 943,\n 'obliteration': 944,\n 'flash': 945,\n 'alone': 946,\n 'Crash': 947,\n 'members': 948,\n 'Twelve': 949,\n 'couple': 950,\n 'poor': 951,\n '05': 952,\n 'bring': 953,\n 'else': 954,\n 'Suspect': 955,\n 'Officials': 956,\n 'driving': 957,\n 'Any': 958,\n 'anyone': 959,\n 'reason': 960,\n 'though': 961,\n 'Ladies': 962,\n 'marks': 963,\n 'Washington': 964,\n 'likely': 965,\n 'Back': 966,\n 'reported': 967,\n '--': 968,\n 'bush': 969,\n 'totally': 970,\n 'everything': 971,\n 'Death': 972,\n 'casualty': 973,\n 'coaches': 974,\n 'Delivers': 975,\n 'now.': 976,\n 'York': 977,\n 'comes': 978,\n 'Youth': 979,\n 'Last': 980,\n \"wasn't\": 981,\n 'enough': 982,\n 'Apollo': 983,\n 'Marians': 984,\n 'Oh': 985,\n 'angry': 986,\n 'Evacuation': 987,\n 'issued': 988,\n 'room': 989,\n 'M': 990,\n 'seismic': 991,\n 'download': 992,\n 'Can': 993,\n 'ball': 994,\n 'NOW': 995,\n 'provoke': 996,\n 'CDT': 997,\n 'playlist': 998,\n 'Jonathan': 999,\n ...}"
          },
          "metadata": {}
        }
      ]
    },
    {
      "cell_type": "code",
      "metadata": {
        "trusted": true,
        "id": "PP8I2fXGAhqh"
      },
      "source": [
        "def update_input_layer(tweet):\n",
        "    \n",
        "    global layer_0\n",
        "    layer_0 *=0\n",
        "    \n",
        "    for word in tweet.split(\" \"):\n",
        "        if word in vocab:\n",
        "            layer_0[0][word2index[word]]+=1\n",
        "    return layer_0"
      ],
      "execution_count": null,
      "outputs": []
    },
    {
      "cell_type": "code",
      "metadata": {
        "trusted": true,
        "id": "2CYWn6Q7Ahqh"
      },
      "source": [
        "real_disaster[0]"
      ],
      "execution_count": null,
      "outputs": []
    },
    {
      "cell_type": "code",
      "metadata": {
        "trusted": true,
        "id": "hBNpEgnBAhqh"
      },
      "source": [
        "update_input_layer(real_disaster[0])\n",
        "layer_0"
      ],
      "execution_count": null,
      "outputs": []
    },
    {
      "cell_type": "code",
      "metadata": {
        "trusted": true,
        "id": "z8mgFmzsAhqi"
      },
      "source": [
        "from sklearn import model_selection\n",
        "traindf=train_df[['text','target']]\n",
        "train,validation=model_selection.train_test_split(traindf,test_size=0.2, random_state=42, shuffle=True)"
      ],
      "execution_count": null,
      "outputs": []
    },
    {
      "cell_type": "code",
      "metadata": {
        "trusted": true,
        "id": "ywfAaof1Ahqi"
      },
      "source": [
        "import torch\n",
        "from torch import nn\n",
        "from torch import optim\n",
        "#import torch.nn.functional as F"
      ],
      "execution_count": null,
      "outputs": []
    },
    {
      "cell_type": "code",
      "metadata": {
        "trusted": true,
        "id": "KMAxfBFHAhqi"
      },
      "source": [
        "# class network(nn.Module):\n",
        "#     def __init__(self):\n",
        "#         super().__init__()\n",
        "#         self.hidden=nn.Linear(111,256)\n",
        "#         self.output=nn.Linear(256,2)\n",
        "        \n",
        "#     def forward(self,x):\n",
        "#         x=F.relu(self.hidden(x))\n",
        "#         x=F.sigmoid(self.output(x))\n",
        "        \n",
        "#     return x\n",
        "    "
      ],
      "execution_count": null,
      "outputs": []
    },
    {
      "cell_type": "code",
      "metadata": {
        "trusted": true,
        "id": "0rvXsQlhAhqi"
      },
      "source": [
        "model=nn.Sequential(nn.Linear(vocab_size,500),nn.ReLU(),nn.Linear(500,200),nn.ReLU(),nn.Linear(200,2),nn.Sigmoid())\n",
        "#model=nn.Sequential(nn.Linear(vocab_size,300),nn.ReLU(),nn.Linear(300,2),nn.Sigmoid())\n",
        "criterion = nn.CrossEntropyLoss()\n",
        "optimizer = optim.SGD(model.parameters(),lr=0.03)"
      ],
      "execution_count": null,
      "outputs": []
    },
    {
      "cell_type": "code",
      "metadata": {
        "trusted": true,
        "id": "dILbrxAVAhqj"
      },
      "source": [
        "data=train[['text','target']].values\n",
        "t=0\n",
        "for tweet,target in data:\n",
        "    tweet=torch.tensor(update_input_layer(tweet))\n",
        "    model_=model(tweet.float())\n",
        "    loss=criterion(model_,torch.tensor([target]))\n",
        "#     if t % 100 == 99:\n",
        "#         print(model_)\n",
        "#         print(t, loss.item())\n",
        "\n",
        "    optimizer.zero_grad()\n",
        "    loss.backward()\n",
        "    optimizer.step()\n",
        "    t+=1\n",
        "            "
      ],
      "execution_count": null,
      "outputs": []
    },
    {
      "cell_type": "code",
      "metadata": {
        "trusted": true,
        "id": "VBMJ_FDSAhqj",
        "outputId": "653f3d71-c7cf-40e2-a043-bf64b5c8800f"
      },
      "source": [
        "data=validation[['text','target']].values\n",
        "with torch.no_grad():\n",
        "    ct=0\n",
        "    correct=0\n",
        "    for tweet,target in data:\n",
        "        tweet=torch.tensor(update_input_layer(tweet))\n",
        "        model_=model(tweet.float())\n",
        "        if (target-model_[0][1]<0.4) and (target-model_[0][1]>-0.4):\n",
        "            correct+=1\n",
        "        ct+=1\n",
        "    print('correct {} ,ct {} ,accuracy {} '.format(correct,ct,correct/float(ct)))"
      ],
      "execution_count": null,
      "outputs": [
        {
          "output_type": "stream",
          "text": "correct 974 ,ct 1523 ,accuracy 0.639527248850952 \n",
          "name": "stdout"
        }
      ]
    },
    {
      "cell_type": "code",
      "metadata": {
        "trusted": true,
        "id": "aCfXeRUoAhqj"
      },
      "source": [
        "def get_result(tweet):\n",
        "    with torch.no_grad():\n",
        "        tweet=torch.tensor(update_input_layer(tweet))\n",
        "        model_=model(tweet.float())\n",
        "        if model_[0][1]>0.6:\n",
        "            target=1\n",
        "        else:target=0\n",
        "        return target\n",
        "            \n",
        "submission_df['target']=test_df['text'].apply(get_result)"
      ],
      "execution_count": null,
      "outputs": []
    },
    {
      "cell_type": "code",
      "metadata": {
        "trusted": true,
        "id": "QY6uemI2Ahqk",
        "outputId": "71534296-5704-4ed8-de5b-cb3e7c7aaf13"
      },
      "source": [
        "submission_df.to_csv(\"\")"
      ],
      "execution_count": null,
      "outputs": [
        {
          "output_type": "execute_result",
          "execution_count": 26,
          "data": {
            "text/plain": "         id  target\n0         0       0\n1         2       0\n2         3       0\n3         9       0\n4        11       1\n...     ...     ...\n3258  10861       0\n3259  10865       0\n3260  10868       1\n3261  10874       0\n3262  10875       0\n\n[3263 rows x 2 columns]",
            "text/html": "<div>\n<style scoped>\n    .dataframe tbody tr th:only-of-type {\n        vertical-align: middle;\n    }\n\n    .dataframe tbody tr th {\n        vertical-align: top;\n    }\n\n    .dataframe thead th {\n        text-align: right;\n    }\n</style>\n<table border=\"1\" class=\"dataframe\">\n  <thead>\n    <tr style=\"text-align: right;\">\n      <th></th>\n      <th>id</th>\n      <th>target</th>\n    </tr>\n  </thead>\n  <tbody>\n    <tr>\n      <th>0</th>\n      <td>0</td>\n      <td>0</td>\n    </tr>\n    <tr>\n      <th>1</th>\n      <td>2</td>\n      <td>0</td>\n    </tr>\n    <tr>\n      <th>2</th>\n      <td>3</td>\n      <td>0</td>\n    </tr>\n    <tr>\n      <th>3</th>\n      <td>9</td>\n      <td>0</td>\n    </tr>\n    <tr>\n      <th>4</th>\n      <td>11</td>\n      <td>1</td>\n    </tr>\n    <tr>\n      <th>...</th>\n      <td>...</td>\n      <td>...</td>\n    </tr>\n    <tr>\n      <th>3258</th>\n      <td>10861</td>\n      <td>0</td>\n    </tr>\n    <tr>\n      <th>3259</th>\n      <td>10865</td>\n      <td>0</td>\n    </tr>\n    <tr>\n      <th>3260</th>\n      <td>10868</td>\n      <td>1</td>\n    </tr>\n    <tr>\n      <th>3261</th>\n      <td>10874</td>\n      <td>0</td>\n    </tr>\n    <tr>\n      <th>3262</th>\n      <td>10875</td>\n      <td>0</td>\n    </tr>\n  </tbody>\n</table>\n<p>3263 rows × 2 columns</p>\n</div>"
          },
          "metadata": {}
        }
      ]
    }
  ]
}